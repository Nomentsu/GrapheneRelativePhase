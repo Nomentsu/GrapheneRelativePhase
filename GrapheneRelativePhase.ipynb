{
 "cells": [
  {
   "cell_type": "code",
   "execution_count": 1,
   "id": "08efc32a-5611-498f-aad7-7a7dce182909",
   "metadata": {},
   "outputs": [],
   "source": [
    "import matplotlib.pyplot as plt\n",
    "import numpy as np"
   ]
  },
  {
   "cell_type": "markdown",
   "id": "69e005b3-162d-4be9-bada-b34a15c8044c",
   "metadata": {},
   "source": [
    "# Définition des constantes"
   ]
  },
  {
   "cell_type": "code",
   "execution_count": 3,
   "id": "094f45d6-b1cc-41d2-a15c-729273c723ab",
   "metadata": {},
   "outputs": [],
   "source": [
    "nstep=3000                                       #nombre de pas dans la grille en k et en x\n",
    "amaille=1.                                     #lattice parameter in angstrom\n",
    "t=1.                                            #Hopping intrasite en eV\n",
    "v=3./2.*amaille*t                               #vitesse de Fermi de fermions de Dirac\n",
    "Delta=5.e-4                                        # Un terme de masse\n",
    "nband=2                                         #Nombre de bandes\n",
    "q_F=.008\n",
    "SurfBZ=3.*np.sqrt(3.)/2.*(4.*np.pi/(3.*np.sqrt(3.)*amaille))**2 #Surface de la  1BZ graphène\n",
    "kxA=4.*np.pi/(3.*np.sqrt(3.)*amaille)\n",
    "kxB=2.*np.pi/(3.*np.sqrt(3.)*amaille)\n",
    "kyB=2.*np.pi/(3.*amaille)"
   ]
  },
  {
   "cell_type": "markdown",
   "id": "55ac8319-e39f-4d72-a7fe-049aeedf7c5f",
   "metadata": {},
   "source": [
    "# Définition des vecteurs caractérisant le réseau"
   ]
  },
  {
   "cell_type": "code",
   "execution_count": null,
   "id": "aefc3de2-6ef4-4df5-9f8c-f86e3f8a43bc",
   "metadata": {},
   "outputs": [],
   "source": [
    "delta1=amaille*np.array([-np.sqrt(3.)/2.,0.5])           #nn vector 1\n",
    "delta2=amaille*np.array([np.sqrt(3.)/2.,0.5])            #nn vector 2\n",
    "delta3=-amaille*np.array([0.,1.])                        #nn vector 3\n",
    "\n",
    "b1=2.*np.pi/(3.*amaille)*np.array([-np.sqrt(3.),1.])     #reciprocal lattice vector 1\n",
    "b2=2.*np.pi/(3.*amaille)*np.array([np.sqrt(3.),1.])      #reciprocal lattice vector 2\n",
    "\n",
    "def Dirac_point(xxi,mm,nn):\n",
    "    KK=xxi*(b1-b2)/3. + mm*b1 + nn*b2\n",
    "    return KK"
   ]
  },
  {
   "cell_type": "markdown",
   "id": "dc9a4b0f-95d0-4e1b-9c05-6b4ba929cffa",
   "metadata": {},
   "source": [
    "# Définition des grilles et des vecteurs"
   ]
  },
  {
   "cell_type": "code",
   "execution_count": null,
   "id": "8b7eddf9-77ce-47a5-920d-7f2d2c1af329",
   "metadata": {},
   "outputs": [],
   "source": [
    "kxgridstart= Dirac_point(-1, 0, 0)[0] - 0.01               #Première case en k\n",
    "kxgridend= Dirac_point(-1, 0, 0)[0] + 0.01                 #Dernière case en k\n",
    "kygridstart= -0.01              #Première case en k\n",
    "kygridend=0.01                #Dernière case en k\n",
    "\n",
    "kxgrid=np.arange(kxgridstart,kxgridend ,(kxgridend-kxgridstart)/nstep)#lambdacut*np.arange(-1.,1.,2./(nstep))              #Grille en kx\n",
    "kygrid=np.arange(kygridstart,kygridend,(kygridend-kygridstart)/nstep)#lambdacut*np.arange(-1.,1.,2./(nstep))             #Grille en ky\n",
    "Energielist=np.array([np.zeros((nstep,nstep)),np.zeros((nstep,nstep))]) #Contient toutes les bandes en énergie\n",
    "Berry_curvlist=np.array([np.zeros((nstep,nstep),dtype=complex),np.zeros((nstep,nstep),dtype=complex)])\n",
    "Berry_Phase=np.zeros((nband))\n",
    "dk=((kxgridend-kxgridstart)/nstep)**2                    #La mesure de l'intégrale dans l'espace réciproque"
   ]
  },
  {
   "cell_type": "markdown",
   "id": "074c57cc-b077-4219-825f-2c18672478af",
   "metadata": {},
   "source": [
    "# Définition des fonctions caractérisant le réseau"
   ]
  },
  {
   "cell_type": "code",
   "execution_count": null,
   "id": "eedb3b58-7a81-4ca6-b5c2-58f1cc022ef2",
   "metadata": {},
   "outputs": [],
   "source": [
    "def Hamilton (kkx,kky):\n",
    "    kk=np.array([kkx,kky])\n",
    "    f=-t*(np.exp(-1.j*np.dot(kk,delta1))+np.exp(-1.j*np.dot(kk,delta2))+np.exp(-1.j*np.dot(kk,delta3)) )\n",
    "    H_kkline1=np.array([Delta,f])\n",
    "    H_kkline2=np.array([np.conj(f),-Delta])\n",
    "    H_kk=np.matrix([H_kkline1,H_kkline2])\n",
    "    return H_kk"
   ]
  }
 ],
 "metadata": {
  "kernelspec": {
   "display_name": "Python 3 (ipykernel)",
   "language": "python",
   "name": "python3"
  },
  "language_info": {
   "codemirror_mode": {
    "name": "ipython",
    "version": 3
   },
   "file_extension": ".py",
   "mimetype": "text/x-python",
   "name": "python",
   "nbconvert_exporter": "python",
   "pygments_lexer": "ipython3",
   "version": "3.12.7"
  }
 },
 "nbformat": 4,
 "nbformat_minor": 5
}
