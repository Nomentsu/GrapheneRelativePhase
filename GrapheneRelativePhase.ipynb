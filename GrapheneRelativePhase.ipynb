{
 "cells": [
  {
   "cell_type": "code",
   "execution_count": 1,
   "id": "08efc32a-5611-498f-aad7-7a7dce182909",
   "metadata": {},
   "outputs": [],
   "source": [
    "import matplotlib.pyplot as plt\n",
    "import numpy as np\n",
    "%matplotlib inline"
   ]
  },
  {
   "cell_type": "markdown",
   "id": "69e005b3-162d-4be9-bada-b34a15c8044c",
   "metadata": {},
   "source": [
    "# Définition des constantes"
   ]
  },
  {
   "cell_type": "code",
   "execution_count": 2,
   "id": "094f45d6-b1cc-41d2-a15c-729273c723ab",
   "metadata": {},
   "outputs": [],
   "source": [
    "nstep=3000                                       #nombre de pas dans la grille en k et en x\n",
    "amaille=1.                                     #lattice parameter in angstrom\n",
    "t=1.                                            #Hopping intrasite en eV\n",
    "v=3./2.*amaille*t                               #vitesse de Fermi de fermions de Dirac\n",
    "Delta=5.e-4                                        # Un terme de masse\n",
    "nband=2                                         #Nombre de bandes\n",
    "q_F=.008\n",
    "SurfBZ=3.*np.sqrt(3.)/2.*(4.*np.pi/(3.*np.sqrt(3.)*amaille))**2 #Surface de la  1BZ graphène\n",
    "kxA=4.*np.pi/(3.*np.sqrt(3.)*amaille)\n",
    "kxB=2.*np.pi/(3.*np.sqrt(3.)*amaille)\n",
    "kyB=2.*np.pi/(3.*amaille)"
   ]
  },
  {
   "cell_type": "markdown",
   "id": "55ac8319-e39f-4d72-a7fe-049aeedf7c5f",
   "metadata": {},
   "source": [
    "# Définition des vecteurs caractérisant le réseau"
   ]
  },
  {
   "cell_type": "code",
   "execution_count": 3,
   "id": "aefc3de2-6ef4-4df5-9f8c-f86e3f8a43bc",
   "metadata": {},
   "outputs": [],
   "source": [
    "delta1=amaille*np.array([-np.sqrt(3.)/2.,0.5])           #nn vector 1\n",
    "delta2=amaille*np.array([np.sqrt(3.)/2.,0.5])            #nn vector 2\n",
    "delta3=-amaille*np.array([0.,1.])                        #nn vector 3\n",
    "b1=2.*np.pi/(3.*amaille)*np.array([-np.sqrt(3.),1.])     #reciprocal lattice vector 1\n",
    "b2=2.*np.pi/(3.*amaille)*np.array([np.sqrt(3.),1.])      #reciprocal lattice vector 2\n",
    "\n",
    "def Dirac_point(xxi,mm,nn):\n",
    "    KK=xxi*(b1-b2)/3. + mm*b1 + nn*b2\n",
    "    return KK\n",
    "Eigenvaluearray=np.zeros((nstep,nstep,nband),dtype=complex)  \n",
    "Eigenvectorarray=np.zeros((nstep,nstep,nband,nband),dtype=complex)\n",
    "Phasearray=np.zeros((nstep,nstep,nband))\n"
   ]
  },
  {
   "cell_type": "markdown",
   "id": "dc9a4b0f-95d0-4e1b-9c05-6b4ba929cffa",
   "metadata": {},
   "source": [
    "# Définition des grilles et des vecteurs"
   ]
  },
  {
   "cell_type": "code",
   "execution_count": 4,
   "id": "8b7eddf9-77ce-47a5-920d-7f2d2c1af329",
   "metadata": {},
   "outputs": [],
   "source": [
    "kxgridstart=-np.pi / (amaille)               #Première case en k\n",
    "kxgridend=np.pi / (amaille)                  #Dernière case en k\n",
    "\n",
    "kxgrid=np.arange(kxgridstart,kxgridend ,(kxgridend-kxgridstart)/nstep)         #Grille en kx\n",
    "kygrid=np.arange(kxgridstart,kxgridend,(kxgridend-kxgridstart)/nstep)          #Grille en ky\n",
    "Energielist=np.array([np.zeros((nstep,nstep)),np.zeros((nstep,nstep))]) #Contient toutes les bandes en énergie\n",
    "dk=((kxgridend-kxgridstart)/nstep)**2                    #La mesure de l'intégrale dans l'espace réciproque"
   ]
  },
  {
   "cell_type": "markdown",
   "id": "074c57cc-b077-4219-825f-2c18672478af",
   "metadata": {},
   "source": [
    "# Définition des fonctions caractérisant le réseau"
   ]
  },
  {
   "cell_type": "code",
   "execution_count": 5,
   "id": "eedb3b58-7a81-4ca6-b5c2-58f1cc022ef2",
   "metadata": {},
   "outputs": [],
   "source": [
    "def Hamilton (kkx,kky):\n",
    "    kk=np.array([kkx,kky])\n",
    "    f=-t*(np.exp(-1.j*np.dot(kk,delta1))+np.exp(-1.j*np.dot(kk,delta2))+np.exp(-1.j*np.dot(kk,delta3)) )\n",
    "    H_kkline1=np.array([Delta,f])\n",
    "    H_kkline2=np.array([np.conj(f),-Delta])\n",
    "    H_kk=np.matrix([H_kkline1,H_kkline2])\n",
    "    return H_kk"
   ]
  },
  {
   "cell_type": "markdown",
   "id": "69263c71-bf3a-4009-b4f9-316ad4e8359b",
   "metadata": {},
   "source": [
    "# Calcul du spectre et fonction d'ondes"
   ]
  },
  {
   "cell_type": "code",
   "execution_count": null,
   "id": "2732dfb6-9ab1-49d5-8d10-876b7e432b19",
   "metadata": {},
   "outputs": [],
   "source": [
    "for i in range (0,nstep):\n",
    "    for j in range(0,nstep):\n",
    "        Eigenvaluearray[i,j], Eigenvectorarray[i,j]=np.linalg.eigh(Hamilton(kxgrid[i],kygrid[j]))\n",
    "        Phasearray[i,j]= np.angle(Eigenvectorarray[i,j,:,0]) -np.angle(Eigenvectorarray[i,j,:,1]) "
   ]
  },
  {
   "cell_type": "code",
   "execution_count": null,
   "id": "7fdc331b-d42c-4baa-850d-9f89bfee2906",
   "metadata": {},
   "outputs": [],
   "source": [
    "KX, KY =np.meshgrid(kxgrid, kygrid)   \n",
    "plt.pcolormesh(KX,KY,Phasearray[:,:,1], cmap='viridis', shading='auto')\n",
    "plt.colorbar()\n",
    "plt.show()"
   ]
  }
 ],
 "metadata": {
  "kernelspec": {
   "display_name": "Python 3 (ipykernel)",
   "language": "python",
   "name": "python3"
  },
  "language_info": {
   "codemirror_mode": {
    "name": "ipython",
    "version": 3
   },
   "file_extension": ".py",
   "mimetype": "text/x-python",
   "name": "python",
   "nbconvert_exporter": "python",
   "pygments_lexer": "ipython3",
   "version": "3.12.7"
  }
 },
 "nbformat": 4,
 "nbformat_minor": 5
}
